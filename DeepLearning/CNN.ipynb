{
 "cells": [
  {
   "cell_type": "code",
   "execution_count": 13,
   "metadata": {},
   "outputs": [],
   "source": [
    "from tensorflow.keras.layers import Conv2D, MaxPooling2D,Flatten, BatchNormalization,GlobalAveragePooling2D\n",
    "from tensorflow.keras.models import Model\n",
    "from tensorflow.keras.models import Sequential\n",
    "from tensorflow.keras.layers import Dense\n",
    "from sklearn.metrics import confusion_matrix\n",
    "import matplotlib.pyplot as plt\n",
    "import numpy as np\n",
    "import tensorflow as tf\n",
    "import seaborn as sns\n",
    "import os\n",
    "import cv2"
   ]
  },
  {
   "cell_type": "code",
   "execution_count": 2,
   "metadata": {},
   "outputs": [],
   "source": [
    "def claheAdapter(img):\n",
    "    lab_img= cv2.cvtColor(img, cv2.COLOR_RGB2LAB)\n",
    "    l, a, b = cv2.split(lab_img)\n",
    "    clahe = cv2.createCLAHE(clipLimit=3.0, tileGridSize=(8,8))\n",
    "    clahe_img = clahe.apply(l)\n",
    "    updated_lab_img2 = cv2.merge((clahe_img,a,b))\n",
    "    CLAHE_img = cv2.cvtColor(updated_lab_img2, cv2.COLOR_LAB2RGB)\n",
    "    return CLAHE_img"
   ]
  },
  {
   "cell_type": "code",
   "execution_count": 3,
   "metadata": {},
   "outputs": [],
   "source": [
    "CATEGORIES = [\"Glaucoma\",\"Normal\",\"Others\"]\n",
    "TESTDIR =  \"C:/Users/User/DL/dataset2/test/\"   \n",
    "TRAINDIR =  \"C:/Users/User/DL/dataset2/train/\"\n",
    "VALDIR = \"C:/Users/User/DL/dataset2/validation/\"\n",
    "test_images,test_labels, train_images, train_labels,val_images,val_labels= [],[],[],[],[],[]\n",
    "for category in CATEGORIES:\n",
    "    path = os.path.join(VALDIR, category)\n",
    "    class_num = CATEGORIES.index(category)\n",
    "    for img in os.listdir(path):\n",
    "        img_array = claheAdapter(cv2.imread(os.path.join(path,img))[:,:,::-1])\n",
    "        cv2.resize(img_array,(100,100))\n",
    "        val_images.append(img_array)\n",
    "        val_labels.append(class_num)\n",
    "        \n",
    "for category in CATEGORIES:\n",
    "    path = os.path.join(TESTDIR, category)\n",
    "    class_num = CATEGORIES.index(category)\n",
    "    for img in os.listdir(path):\n",
    "        img_array = claheAdapter(cv2.imread(os.path.join(path,img))[:,:,::-1])\n",
    "        cv2.resize(img_array,(100,100))\n",
    "        test_images.append(img_array)\n",
    "        test_labels.append(class_num)\n",
    "        \n",
    "for category in CATEGORIES:\n",
    "    path = os.path.join(TRAINDIR, category)\n",
    "    class_num = CATEGORIES.index(category)\n",
    "    for img in os.listdir(path):\n",
    "        img_array = claheAdapter(cv2.imread(os.path.join(path,img))[:,:,::-1])\n",
    "        cv2.resize(img_array,(100,100))\n",
    "        train_images.append(img_array)\n",
    "        train_labels.append(class_num)"
   ]
  },
  {
   "cell_type": "code",
   "execution_count": 4,
   "metadata": {},
   "outputs": [],
   "source": [
    "test_images = np.asarray(test_images)\n",
    "test_labels = np.asarray(test_labels)\n",
    "train_images = np.asarray(train_images)\n",
    "train_labels = np.asarray(train_labels)\n",
    "val_images = np.asarray(val_images)\n",
    "val_labels = np.asarray(val_labels)\n",
    "train_images = train_images / 255.0\n",
    "test_images = test_images / 255.0\n",
    "val_images = val_images / 255.0"
   ]
  },
  {
   "cell_type": "code",
   "execution_count": 19,
   "metadata": {},
   "outputs": [],
   "source": [
    "model = tf.keras.Sequential([\n",
    "    tf.keras.layers.Conv2D(32, (3,3), activation='relu'),\n",
    "    tf.keras.layers.MaxPooling2D(pool_size=(2, 2)),\n",
    "    tf.keras.layers.Dropout(0.25),\n",
    "\n",
    "    tf.keras.layers.Conv2D(64, (3,3), activation='relu'),\n",
    "    tf.keras.layers.MaxPooling2D(pool_size=(2, 2)),\n",
    "    tf.keras.layers.Dropout(0.25),\n",
    "\n",
    "    tf.keras.layers.Conv2D(128, (3,3), activation='relu'),\n",
    "    tf.keras.layers.MaxPooling2D(pool_size=(2, 2)),\n",
    "\n",
    "    tf.keras.layers.Flatten(),\n",
    "    tf.keras.layers.Dense(128, activation='relu'),\n",
    "    tf.keras.layers.Dense(3,activation='softmax')\n",
    "    ])\n",
    "model.compile(\n",
    "    optimizer='adam',\n",
    "    loss=tf.losses.SparseCategoricalCrossentropy(from_logits=True),\n",
    "    metrics=['accuracy'])"
   ]
  },
  {
   "cell_type": "code",
   "execution_count": 20,
   "metadata": {},
   "outputs": [
    {
     "name": "stdout",
     "output_type": "stream",
     "text": [
      "Epoch 1/20\n",
      "33/33 [==============================] - 9s 246ms/step - loss: 1.3004 - accuracy: 0.3593 - val_loss: 1.0869 - val_accuracy: 0.3750\n",
      "Epoch 2/20\n",
      "33/33 [==============================] - 8s 240ms/step - loss: 0.9653 - accuracy: 0.4933 - val_loss: 1.1825 - val_accuracy: 0.4185\n",
      "Epoch 3/20\n",
      "33/33 [==============================] - 8s 258ms/step - loss: 0.9063 - accuracy: 0.5314 - val_loss: 0.9972 - val_accuracy: 0.5163\n",
      "Epoch 4/20\n",
      "33/33 [==============================] - 8s 251ms/step - loss: 0.8278 - accuracy: 0.5703 - val_loss: 0.9709 - val_accuracy: 0.5217\n",
      "Epoch 5/20\n",
      "33/33 [==============================] - 9s 264ms/step - loss: 0.8113 - accuracy: 0.5694 - val_loss: 0.9624 - val_accuracy: 0.5109\n",
      "Epoch 6/20\n",
      "33/33 [==============================] - 8s 245ms/step - loss: 0.8050 - accuracy: 0.5732 - val_loss: 0.9873 - val_accuracy: 0.5272\n",
      "Epoch 7/20\n",
      "33/33 [==============================] - 9s 269ms/step - loss: 0.7736 - accuracy: 0.6264 - val_loss: 0.9626 - val_accuracy: 0.5924\n",
      "Epoch 8/20\n",
      "33/33 [==============================] - 8s 253ms/step - loss: 0.7583 - accuracy: 0.6217 - val_loss: 0.9753 - val_accuracy: 0.5380\n",
      "Epoch 9/20\n",
      "33/33 [==============================] - 8s 256ms/step - loss: 0.7414 - accuracy: 0.6435 - val_loss: 0.9899 - val_accuracy: 0.5815\n",
      "Epoch 10/20\n",
      "33/33 [==============================] - 8s 241ms/step - loss: 0.7220 - accuracy: 0.6435 - val_loss: 0.9614 - val_accuracy: 0.5489\n",
      "Epoch 11/20\n",
      "33/33 [==============================] - 8s 245ms/step - loss: 0.7002 - accuracy: 0.6711 - val_loss: 0.9617 - val_accuracy: 0.5598\n",
      "Epoch 12/20\n",
      "33/33 [==============================] - 8s 241ms/step - loss: 0.6775 - accuracy: 0.6625 - val_loss: 0.9571 - val_accuracy: 0.5598\n",
      "Epoch 13/20\n",
      "33/33 [==============================] - 8s 255ms/step - loss: 0.6780 - accuracy: 0.6730 - val_loss: 0.9457 - val_accuracy: 0.5543\n",
      "Epoch 14/20\n",
      "33/33 [==============================] - 9s 265ms/step - loss: 0.6421 - accuracy: 0.7034 - val_loss: 0.9618 - val_accuracy: 0.5761\n",
      "Epoch 15/20\n",
      "33/33 [==============================] - 8s 251ms/step - loss: 0.5962 - accuracy: 0.7120 - val_loss: 0.9927 - val_accuracy: 0.5272\n",
      "Epoch 16/20\n",
      "33/33 [==============================] - 8s 237ms/step - loss: 0.5605 - accuracy: 0.7414 - val_loss: 1.0095 - val_accuracy: 0.5380\n",
      "Epoch 17/20\n",
      "33/33 [==============================] - 8s 247ms/step - loss: 0.5225 - accuracy: 0.7500 - val_loss: 1.0490 - val_accuracy: 0.5272\n",
      "Epoch 18/20\n",
      "33/33 [==============================] - 8s 256ms/step - loss: 0.4860 - accuracy: 0.7795 - val_loss: 1.0754 - val_accuracy: 0.5326\n",
      "Epoch 19/20\n",
      "33/33 [==============================] - 8s 250ms/step - loss: 0.4674 - accuracy: 0.7880 - val_loss: 1.2498 - val_accuracy: 0.5707\n",
      "Epoch 20/20\n",
      "33/33 [==============================] - 8s 243ms/step - loss: 0.4775 - accuracy: 0.7766 - val_loss: 1.0975 - val_accuracy: 0.5707\n"
     ]
    }
   ],
   "source": [
    "history = model.fit(\n",
    "      train_images,\n",
    "      train_labels,\n",
    "      validation_data=(val_images,val_labels),\n",
    "      epochs=20\n",
    "    )"
   ]
  },
  {
   "cell_type": "code",
   "execution_count": 21,
   "metadata": {},
   "outputs": [
    {
     "name": "stdout",
     "output_type": "stream",
     "text": [
      "10/10 - 0s - loss: 0.7900 - accuracy: 0.6461\n",
      "\n",
      "Test accuracy: 0.6461039185523987\n"
     ]
    }
   ],
   "source": [
    "test_loss,test_acc = model.evaluate(test_images,test_labels, verbose=2)\n",
    "\n",
    "print('\\nTest accuracy:', test_acc)"
   ]
  },
  {
   "cell_type": "code",
   "execution_count": 22,
   "metadata": {},
   "outputs": [
    {
     "name": "stdout",
     "output_type": "stream",
     "text": [
      "Model: \"sequential_2\"\n",
      "_________________________________________________________________\n",
      "Layer (type)                 Output Shape              Param #   \n",
      "=================================================================\n",
      "conv2d_6 (Conv2D)            (None, 98, 98, 32)        896       \n",
      "_________________________________________________________________\n",
      "max_pooling2d_6 (MaxPooling2 (None, 49, 49, 32)        0         \n",
      "_________________________________________________________________\n",
      "dropout_4 (Dropout)          (None, 49, 49, 32)        0         \n",
      "_________________________________________________________________\n",
      "conv2d_7 (Conv2D)            (None, 47, 47, 64)        18496     \n",
      "_________________________________________________________________\n",
      "max_pooling2d_7 (MaxPooling2 (None, 23, 23, 64)        0         \n",
      "_________________________________________________________________\n",
      "dropout_5 (Dropout)          (None, 23, 23, 64)        0         \n",
      "_________________________________________________________________\n",
      "conv2d_8 (Conv2D)            (None, 21, 21, 128)       73856     \n",
      "_________________________________________________________________\n",
      "max_pooling2d_8 (MaxPooling2 (None, 10, 10, 128)       0         \n",
      "_________________________________________________________________\n",
      "flatten_2 (Flatten)          (None, 12800)             0         \n",
      "_________________________________________________________________\n",
      "dense_4 (Dense)              (None, 128)               1638528   \n",
      "_________________________________________________________________\n",
      "dense_5 (Dense)              (None, 3)                 387       \n",
      "=================================================================\n",
      "Total params: 1,732,163\n",
      "Trainable params: 1,732,163\n",
      "Non-trainable params: 0\n",
      "_________________________________________________________________\n"
     ]
    }
   ],
   "source": [
    "checkpoint_path = 'model\\CheckpointCNN'\n",
    "model.save_weights(checkpoint_path)\n",
    "model.save('model\\CNN_model.h5')\n",
    "model.summary()"
   ]
  },
  {
   "cell_type": "code",
   "execution_count": 25,
   "metadata": {},
   "outputs": [
    {
     "data": {
      "image/png": "[encoded data removed]",
      "text/plain": [
       "<Figure size 432x288 with 1 Axes>"
      ]
     },
     "metadata": {
      "needs_background": "light"
     },
     "output_type": "display_data"
    }
   ],
   "source": [
    "plt.plot(history.history['accuracy'],label = 'accuracy')\n",
    "plt.plot(history.history['val_accuracy'],label = 'val_accuracy')\n",
    "plt.xlabel('Epoch')\n",
    "plt.ylabel('Accuracy')\n",
    "plt.ylim([0,1])\n",
    "plt.legend(loc='lower right')\n",
    "plt.savefig('acc_graph_CNN.jpg')"
   ]
  },
  {
   "cell_type": "code",
   "execution_count": 26,
   "metadata": {},
   "outputs": [
    {
     "data": {
      "image/png": "[encoded data removed]",
      "text/plain": [
       "<Figure size 576x576 with 1 Axes>"
      ]
     },
     "metadata": {
      "needs_background": "light"
     },
     "output_type": "display_data"
    }
   ],
   "source": [
    "probability_model = tf.keras.Sequential([\n",
    "  model,\n",
    "  tf.keras.layers.Softmax()\n",
    "])\n",
    "\n",
    "predictions = probability_model.predict(test_images)\n",
    "\n",
    "i = 0\n",
    "for i in range(0,100):\n",
    "    np.argmax(predictions[i])\n",
    "    \n",
    "PreLabel = []\n",
    "for i in range(0,len(predictions)):\n",
    "    PreLabel.append(np.argmax(predictions[i]))\n",
    "    \n",
    "plt.figure(figsize=(8, 8))\n",
    "sns.heatmap(confusion_matrix(PreLabel, test_labels), annot=True, fmt=\"d\", cbar = False, cmap = plt.cm.Blues)\n",
    "plt.savefig('confusion_CNN.jpg')"
   ]
  }
 ],
 "metadata": {
  "kernelspec": {
   "display_name": "Python 3",
   "language": "python",
   "name": "python3"
  },
  "language_info": {
   "codemirror_mode": {
    "name": "ipython",
    "version": 3
   },
   "file_extension": ".py",
   "mimetype": "text/x-python",
   "name": "python",
   "nbconvert_exporter": "python",
   "pygments_lexer": "ipython3",
   "version": "3.8.5"
  }
 },
 "nbformat": 4,
 "nbformat_minor": 4
}
