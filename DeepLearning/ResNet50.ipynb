{
 "cells": [
  {
   "cell_type": "code",
   "execution_count": 75,
   "metadata": {},
   "outputs": [],
   "source": [
    "from tensorflow.keras.layers import MaxPooling2D,Flatten, BatchNormalization,GlobalAveragePooling2D\n",
    "from tensorflow.keras.applications.resnet50 import ResNet50\n",
    "from tensorflow.keras.models import Model\n",
    "from tensorflow.keras.models import Sequential\n",
    "from tensorflow.keras.layers import Dense,Dropout\n",
    "from tensorflow.keras.preprocessing import image\n",
    "from sklearn.model_selection import KFold\n",
    "from sklearn.metrics import confusion_matrix\n",
    "import matplotlib.pyplot as plt\n",
    "import numpy as np\n",
    "import tensorflow as tf\n",
    "import os\n",
    "import cv2\n",
    "import seaborn as sns"
   ]
  },
  {
   "cell_type": "code",
   "execution_count": 76,
   "metadata": {},
   "outputs": [],
   "source": [
    "def claheAdapter(img):\n",
    "    lab_img= cv2.cvtColor(img, cv2.COLOR_RGB2LAB)\n",
    "    l, a, b = cv2.split(lab_img)\n",
    "    clahe = cv2.createCLAHE(clipLimit=3.0, tileGridSize=(8,8))\n",
    "    clahe_img = clahe.apply(l)\n",
    "    updated_lab_img2 = cv2.merge((clahe_img,a,b))\n",
    "    CLAHE_img = cv2.cvtColor(updated_lab_img2, cv2.COLOR_LAB2RGB)\n",
    "    return CLAHE_img"
   ]
  },
  {
   "cell_type": "code",
   "execution_count": 77,
   "metadata": {},
   "outputs": [],
   "source": [
    "CATEGORIES = [\"Glaucoma\",\"Normal\",\"Others\"]\n",
    "TESTDIR =  \"C:/Users/User/DL/dataset2/test/\"   \n",
    "TRAINDIR =  \"C:/Users/User/DL/dataset2/train/\"\n",
    "VALDIR = \"C:/Users/User/DL/dataset2/validation/\"\n",
    "test_images,test_labels, train_images, train_labels,val_images,val_labels= [],[],[],[],[],[]\n",
    "for category in CATEGORIES:\n",
    "    path = os.path.join(VALDIR, category)\n",
    "    class_num = CATEGORIES.index(category)\n",
    "    for img in os.listdir(path):\n",
    "        img_array = claheAdapter(cv2.imread(os.path.join(path,img))[:,:,::-1])\n",
    "        cv2.resize(img_array,(100,100))\n",
    "        val_images.append(img_array)\n",
    "        val_labels.append(class_num)\n",
    "        \n",
    "for category in CATEGORIES:\n",
    "    path = os.path.join(TESTDIR, category)\n",
    "    class_num = CATEGORIES.index(category)\n",
    "    for img in os.listdir(path):\n",
    "        img_array = claheAdapter(cv2.imread(os.path.join(path,img))[:,:,::-1])\n",
    "        cv2.resize(img_array,(100,100))\n",
    "        test_images.append(img_array)\n",
    "        test_labels.append(class_num)\n",
    "        \n",
    "for category in CATEGORIES:\n",
    "    path = os.path.join(TRAINDIR, category)\n",
    "    class_num = CATEGORIES.index(category)\n",
    "    for img in os.listdir(path):\n",
    "        img_array = claheAdapter(cv2.imread(os.path.join(path,img))[:,:,::-1])\n",
    "        cv2.resize(img_array,(100,100))\n",
    "        train_images.append(img_array)\n",
    "        train_labels.append(class_num)"
   ]
  },
  {
   "cell_type": "code",
   "execution_count": 78,
   "metadata": {},
   "outputs": [],
   "source": [
    "test_images = np.asarray(test_images)\n",
    "test_labels = np.asarray(test_labels)\n",
    "train_images = np.asarray(train_images)\n",
    "train_labels = np.asarray(train_labels)\n",
    "val_images = np.asarray(val_images)\n",
    "val_labels = np.asarray(val_labels)\n",
    "train_images = train_images / 255.0\n",
    "test_images = test_images / 255.0\n",
    "val_images = val_images / 255.0"
   ]
  },
  {
   "cell_type": "code",
   "execution_count": 92,
   "metadata": {},
   "outputs": [],
   "source": [
    "base_model = ResNet50(weights='imagenet', include_top=False,input_shape=(100,100,3))\n",
    "model = tf.keras.Sequential()  \n",
    "model.add(base_model)\n",
    "model.add(GlobalAveragePooling2D())\n",
    "model.add(Flatten())\n",
    "model.add(Dense(500,activation='relu'))\n",
    "model.add(BatchNormalization())\n",
    "model.add(Dropout(0.25))\n",
    "\n",
    "model.add(Dense(500,activation='relu'))\n",
    "model.add(BatchNormalization())\n",
    "model.add(Dropout(0.25))\n",
    "model.add(Dense(3,activation='softmax'))\n",
    "for layer in base_model.layers:\n",
    "    layer.trainable = False\n",
    "\n",
    "model.compile(optimizer='adam',loss=tf.losses.SparseCategoricalCrossentropy(from_logits=True),metrics=['accuracy'])"
   ]
  },
  {
   "cell_type": "code",
   "execution_count": 93,
   "metadata": {},
   "outputs": [
    {
     "name": "stdout",
     "output_type": "stream",
     "text": [
      "Epoch 1/20\n",
      "33/33 [==============================] - 24s 611ms/step - loss: 1.3208 - accuracy: 0.4886 - val_loss: 1.1668 - val_accuracy: 0.3315\n",
      "Epoch 2/20\n",
      "33/33 [==============================] - 20s 609ms/step - loss: 1.0224 - accuracy: 0.5532 - val_loss: 1.0836 - val_accuracy: 0.3859\n",
      "Epoch 3/20\n",
      "33/33 [==============================] - 21s 628ms/step - loss: 0.9847 - accuracy: 0.5856 - val_loss: 1.1254 - val_accuracy: 0.3641\n",
      "Epoch 4/20\n",
      "33/33 [==============================] - 21s 630ms/step - loss: 0.9161 - accuracy: 0.5960 - val_loss: 1.0888 - val_accuracy: 0.3098\n",
      "Epoch 5/20\n",
      "33/33 [==============================] - 21s 634ms/step - loss: 0.8689 - accuracy: 0.6264 - val_loss: 1.3068 - val_accuracy: 0.3750\n",
      "Epoch 6/20\n",
      "33/33 [==============================] - 21s 644ms/step - loss: 0.8320 - accuracy: 0.6321 - val_loss: 1.9950 - val_accuracy: 0.3315\n",
      "Epoch 7/20\n",
      "33/33 [==============================] - 19s 571ms/step - loss: 0.8180 - accuracy: 0.6464 - val_loss: 1.4201 - val_accuracy: 0.3315\n",
      "Epoch 8/20\n",
      "33/33 [==============================] - 19s 577ms/step - loss: 0.7852 - accuracy: 0.6644 - val_loss: 1.4065 - val_accuracy: 0.4674\n",
      "Epoch 9/20\n",
      "33/33 [==============================] - 22s 670ms/step - loss: 0.7654 - accuracy: 0.6683 - val_loss: 1.6108 - val_accuracy: 0.4837\n",
      "Epoch 10/20\n",
      "33/33 [==============================] - 24s 745ms/step - loss: 0.6701 - accuracy: 0.7082 - val_loss: 4.9110 - val_accuracy: 0.2935\n",
      "Epoch 11/20\n",
      "33/33 [==============================] - 21s 637ms/step - loss: 0.7080 - accuracy: 0.6816 - val_loss: 1.3327 - val_accuracy: 0.3750\n",
      "Epoch 12/20\n",
      "33/33 [==============================] - 19s 580ms/step - loss: 0.6519 - accuracy: 0.7196 - val_loss: 7.3512 - val_accuracy: 0.2935\n",
      "Epoch 13/20\n",
      "33/33 [==============================] - 21s 636ms/step - loss: 0.5983 - accuracy: 0.7234 - val_loss: 2.5432 - val_accuracy: 0.2989\n",
      "Epoch 14/20\n",
      "33/33 [==============================] - 25s 750ms/step - loss: 0.5973 - accuracy: 0.7367 - val_loss: 4.3902 - val_accuracy: 0.2989\n",
      "Epoch 15/20\n",
      "33/33 [==============================] - 27s 815ms/step - loss: 0.5661 - accuracy: 0.7576 - val_loss: 9.3706 - val_accuracy: 0.2935\n",
      "Epoch 16/20\n",
      "33/33 [==============================] - 29s 881ms/step - loss: 0.6135 - accuracy: 0.7348 - val_loss: 6.0643 - val_accuracy: 0.4239\n",
      "Epoch 17/20\n",
      "33/33 [==============================] - 27s 810ms/step - loss: 0.5630 - accuracy: 0.7614 - val_loss: 23.9457 - val_accuracy: 0.2935\n",
      "Epoch 18/20\n",
      "33/33 [==============================] - 27s 812ms/step - loss: 0.5603 - accuracy: 0.7538 - val_loss: 2.7128 - val_accuracy: 0.3859\n",
      "Epoch 19/20\n",
      "33/33 [==============================] - 26s 803ms/step - loss: 0.5295 - accuracy: 0.7842 - val_loss: 6.8588 - val_accuracy: 0.3261\n",
      "Epoch 20/20\n",
      "33/33 [==============================] - 26s 800ms/step - loss: 0.5305 - accuracy: 0.7738 - val_loss: 10.7337 - val_accuracy: 0.4402\n"
     ]
    }
   ],
   "source": [
    "history = model.fit(\n",
    "      train_images,\n",
    "      train_labels,\n",
    "      validation_data=(val_images,val_labels),\n",
    "      epochs=20\n",
    "    )"
   ]
  },
  {
   "cell_type": "code",
   "execution_count": 94,
   "metadata": {},
   "outputs": [
    {
     "name": "stdout",
     "output_type": "stream",
     "text": [
      "10/10 - 4s - loss: 10.5817 - accuracy: 0.4740\n",
      "\n",
      "Test accuracy: 0.4740259647369385\n"
     ]
    }
   ],
   "source": [
    "test_loss, test_acc = model.evaluate(test_images,test_labels, verbose=2)\n",
    "\n",
    "print('\\nTest accuracy:', test_acc)"
   ]
  },
  {
   "cell_type": "code",
   "execution_count": 96,
   "metadata": {},
   "outputs": [
    {
     "name": "stdout",
     "output_type": "stream",
     "text": [
      "Model: \"sequential_21\"\n",
      "_________________________________________________________________\n",
      "Layer (type)                 Output Shape              Param #   \n",
      "=================================================================\n",
      "resnet50 (Functional)        (None, 4, 4, 2048)        23587712  \n",
      "_________________________________________________________________\n",
      "global_average_pooling2d_5 ( (None, 2048)              0         \n",
      "_________________________________________________________________\n",
      "flatten_11 (Flatten)         (None, 2048)              0         \n",
      "_________________________________________________________________\n",
      "dense_29 (Dense)             (None, 500)               1024500   \n",
      "_________________________________________________________________\n",
      "batch_normalization_14 (Batc (None, 500)               2000      \n",
      "_________________________________________________________________\n",
      "dropout_13 (Dropout)         (None, 500)               0         \n",
      "_________________________________________________________________\n",
      "dense_30 (Dense)             (None, 500)               250500    \n",
      "_________________________________________________________________\n",
      "batch_normalization_15 (Batc (None, 500)               2000      \n",
      "_________________________________________________________________\n",
      "dropout_14 (Dropout)         (None, 500)               0         \n",
      "_________________________________________________________________\n",
      "dense_31 (Dense)             (None, 3)                 1503      \n",
      "=================================================================\n",
      "Total params: 24,868,215\n",
      "Trainable params: 1,278,503\n",
      "Non-trainable params: 23,589,712\n",
      "_________________________________________________________________\n"
     ]
    }
   ],
   "source": [
    "checkpoint_path = 'model\\CheckpointResNet50'\n",
    "model.save_weights(checkpoint_path)\n",
    "model.save('model\\ResNet50_model.h5')\n",
    "model.summary()"
   ]
  },
  {
   "cell_type": "code",
   "execution_count": 103,
   "metadata": {},
   "outputs": [
    {
     "data": {
      "image/png": "[encoded data removed]",
      "text/plain": [
       "<Figure size 432x288 with 1 Axes>"
      ]
     },
     "metadata": {
      "needs_background": "light"
     },
     "output_type": "display_data"
    }
   ],
   "source": [
    "plt.plot(history.history['accuracy'], label = 'accuracy')\n",
    "plt.plot(history.history['val_accuracy'], label = 'val_accuracy')\n",
    "plt.xlabel('Epoch')\n",
    "plt.ylabel('Accuracy')\n",
    "plt.ylim([0,1])\n",
    "plt.legend(loc='lower right')\n",
    "plt.savefig('acc_graph_ResNet50.jpg')"
   ]
  },
  {
   "cell_type": "code",
   "execution_count": 105,
   "metadata": {},
   "outputs": [
    {
     "data": {
      "image/png": "[encoded data removed]",
      "text/plain": [
       "<Figure size 576x576 with 1 Axes>"
      ]
     },
     "metadata": {
      "needs_background": "light"
     },
     "output_type": "display_data"
    }
   ],
   "source": [
    "probability_model = tf.keras.Sequential([\n",
    "  model,\n",
    "  tf.keras.layers.Softmax()\n",
    "])\n",
    "\n",
    "predictions = probability_model.predict(test_images)\n",
    "\n",
    "PreLabel = []\n",
    "for i in range(0,len(predictions)):\n",
    "    PreLabel.append(np.argmax(predictions[i]))\n",
    "    \n",
    "plt.figure(figsize=(8, 8))\n",
    "sns.heatmap(confusion_matrix(PreLabel, test_labels), annot=True, fmt=\"d\", cbar = False, cmap = plt.cm.Blues)\n",
    "plt.savefig('confusion_ResNet50.jpg')"
   ]
  }
 ],
 "metadata": {
  "kernelspec": {
   "display_name": "Python 3",
   "language": "python",
   "name": "python3"
  },
  "language_info": {
   "codemirror_mode": {
    "name": "ipython",
    "version": 3
   },
   "file_extension": ".py",
   "mimetype": "text/x-python",
   "name": "python",
   "nbconvert_exporter": "python",
   "pygments_lexer": "ipython3",
   "version": "3.8.5"
  }
 },
 "nbformat": 4,
 "nbformat_minor": 4
}
